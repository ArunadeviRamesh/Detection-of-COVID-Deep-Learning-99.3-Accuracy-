{
  "nbformat": 4,
  "nbformat_minor": 0,
  "metadata": {
    "colab": {
      "name": "COVID-19 analysis.ipynb",
      "provenance": [],
      "collapsed_sections": [],
      "mount_file_id": "1lYGaAY0VJoHl_6Xp8wwj2fJKbOipne-6",
      "authorship_tag": "ABX9TyOo9yeLrUFJEP3iJzfaeFJ1",
      "include_colab_link": true
    },
    "kernelspec": {
      "name": "python3",
      "display_name": "Python 3"
    }
  },
  "cells": [
    {
      "cell_type": "markdown",
      "metadata": {
        "id": "view-in-github",
        "colab_type": "text"
      },
      "source": [
        "<a href=\"https://colab.research.google.com/github/ArunadeviRamesh/Detection-of-COVID-Deep-Learning-99.3-Accuracy-/blob/master/COVID_19_analysis.ipynb\" target=\"_parent\"><img src=\"https://colab.research.google.com/assets/colab-badge.svg\" alt=\"Open In Colab\"/></a>"
      ]
    },
    {
      "cell_type": "code",
      "metadata": {
        "id": "im24H9xC9yjK",
        "outputId": "f0ef06c0-a733-44f3-d361-ddfd347c401a",
        "colab": {
          "base_uri": "https://localhost:8080/",
          "height": 74
        }
      },
      "source": [
        "import numpy as np\n",
        "import pandas as pd\n",
        "import matplotlib.pyplot as plt\n",
        "import seaborn as sns\n",
        "import plotly.graph_objs as go\n",
        "import plotly.express as px\n",
        "import warnings\n",
        "warnings.filterwarnings(\"ignore\")"
      ],
      "execution_count": null,
      "outputs": [
        {
          "output_type": "stream",
          "text": [
            "/usr/local/lib/python3.6/dist-packages/statsmodels/tools/_testing.py:19: FutureWarning: pandas.util.testing is deprecated. Use the functions in the public API at pandas.testing instead.\n",
            "  import pandas.util.testing as tm\n"
          ],
          "name": "stderr"
        }
      ]
    },
    {
      "cell_type": "code",
      "metadata": {
        "id": "qlU1BAYz_GJV",
        "outputId": "ad04bce8-cdb8-442d-adad-47e37a21296a",
        "colab": {
          "base_uri": "https://localhost:8080/",
          "height": 138
        }
      },
      "source": [
        "df=pd.read_csv(\"/content/drive/My Drive/covid data/tamilnadu/TN confirmed and active 15 and 5 days.csv\")\n",
        "df.head(3)"
      ],
      "execution_count": null,
      "outputs": [
        {
          "output_type": "execute_result",
          "data": {
            "text/html": [
              "<div>\n",
              "<style scoped>\n",
              "    .dataframe tbody tr th:only-of-type {\n",
              "        vertical-align: middle;\n",
              "    }\n",
              "\n",
              "    .dataframe tbody tr th {\n",
              "        vertical-align: top;\n",
              "    }\n",
              "\n",
              "    .dataframe thead th {\n",
              "        text-align: right;\n",
              "    }\n",
              "</style>\n",
              "<table border=\"1\" class=\"dataframe\">\n",
              "  <thead>\n",
              "    <tr style=\"text-align: right;\">\n",
              "      <th></th>\n",
              "      <th>district</th>\n",
              "      <th>date</th>\n",
              "      <th>Active</th>\n",
              "      <th>confirmed</th>\n",
              "      <th>death</th>\n",
              "      <th>cured</th>\n",
              "      <th>confirmed 15days</th>\n",
              "      <th>death 15 days</th>\n",
              "      <th>confirmed one week</th>\n",
              "      <th>death one week</th>\n",
              "    </tr>\n",
              "  </thead>\n",
              "  <tbody>\n",
              "    <tr>\n",
              "      <th>0</th>\n",
              "      <td>Tamil Nadu</td>\n",
              "      <td>7/3/2020</td>\n",
              "      <td>NaN</td>\n",
              "      <td>1</td>\n",
              "      <td>0</td>\n",
              "      <td>0</td>\n",
              "      <td>7</td>\n",
              "      <td>0</td>\n",
              "      <td>1</td>\n",
              "      <td>0</td>\n",
              "    </tr>\n",
              "    <tr>\n",
              "      <th>1</th>\n",
              "      <td>Tamil Nadu</td>\n",
              "      <td>8/3/2020</td>\n",
              "      <td>NaN</td>\n",
              "      <td>1</td>\n",
              "      <td>0</td>\n",
              "      <td>0</td>\n",
              "      <td>9</td>\n",
              "      <td>0</td>\n",
              "      <td>1</td>\n",
              "      <td>0</td>\n",
              "    </tr>\n",
              "    <tr>\n",
              "      <th>2</th>\n",
              "      <td>Tamil Nadu</td>\n",
              "      <td>9/3/2020</td>\n",
              "      <td>NaN</td>\n",
              "      <td>1</td>\n",
              "      <td>0</td>\n",
              "      <td>0</td>\n",
              "      <td>15</td>\n",
              "      <td>0</td>\n",
              "      <td>1</td>\n",
              "      <td>0</td>\n",
              "    </tr>\n",
              "  </tbody>\n",
              "</table>\n",
              "</div>"
            ],
            "text/plain": [
              "     district      date  ...  confirmed one week  death one week\n",
              "0  Tamil Nadu  7/3/2020  ...                   1               0\n",
              "1  Tamil Nadu  8/3/2020  ...                   1               0\n",
              "2  Tamil Nadu  9/3/2020  ...                   1               0\n",
              "\n",
              "[3 rows x 10 columns]"
            ]
          },
          "metadata": {
            "tags": []
          },
          "execution_count": 2
        }
      ]
    },
    {
      "cell_type": "code",
      "metadata": {
        "id": "-ZgTLH-p_T2_"
      },
      "source": [
        "x=df.iloc[:,[3,4]]\n",
        "y=df.iloc[:,[6,7,8,9]]\n"
      ],
      "execution_count": null,
      "outputs": []
    },
    {
      "cell_type": "code",
      "metadata": {
        "id": "vVGKoB2G_bB3",
        "outputId": "83c45aaa-15df-4d17-d3c9-a77752bc8671",
        "colab": {
          "base_uri": "https://localhost:8080/",
          "height": 35
        }
      },
      "source": [
        "from sklearn.model_selection import train_test_split\n",
        "x_train,x_test,y_train,y_test=train_test_split(x,y,test_size=0.4,random_state=0)\n",
        "from sklearn.linear_model import LinearRegression\n",
        "lr=LinearRegression()\n",
        "lr.fit(x_train,y_train)"
      ],
      "execution_count": null,
      "outputs": [
        {
          "output_type": "execute_result",
          "data": {
            "text/plain": [
              "LinearRegression(copy_X=True, fit_intercept=True, n_jobs=None, normalize=False)"
            ]
          },
          "metadata": {
            "tags": []
          },
          "execution_count": 4
        }
      ]
    },
    {
      "cell_type": "code",
      "metadata": {
        "id": "0pOQL38D_hLm",
        "outputId": "cb7bc8e0-988a-42f2-d3d1-b4b587e01755",
        "colab": {
          "base_uri": "https://localhost:8080/",
          "height": 254
        }
      },
      "source": [
        "y_pred=lr.predict(x_test)\n",
        "from sklearn.metrics import r2_score,mean_squared_error,mean_absolute_error\n",
        "from math import sqrt\n",
        "accuracy=r2_score(y_pred,y_test)*100\n",
        "print(\"Accuracy r2_score\",accuracy)\n",
        "print(\"ACCURACY=\",lr.score(x_train,y_train)*100)\n",
        "from sklearn.metrics import mean_absolute_error\n",
        "pred= lr.predict(x_test)\n",
        "print(\"MAE=\",mean_absolute_error(y_test, pred))\n",
        "rss=((y_test-y_pred)**2).sum()\n",
        "mse=np.mean((y_test-y_pred)**2)\n",
        "print(\"MSE=\",mse)\n",
        "print(\"Final rmse value is =\",np.sqrt(np.mean((y_test-y_pred)**2)))"
      ],
      "execution_count": null,
      "outputs": [
        {
          "output_type": "stream",
          "text": [
            "Accuracy r2_score 99.5559263625811\n",
            "ACCURACY= 99.64582489868108\n",
            "MAE= 879.9767426294285\n",
            "MSE= confirmed 15days      1.586754e+07\n",
            "death 15 days         3.753360e+03\n",
            "confirmed one week    1.934123e+06\n",
            "death one week        5.397839e+02\n",
            "dtype: float64\n",
            "Final rmse value is = confirmed 15days      3983.408229\n",
            "death 15 days           61.264669\n",
            "confirmed one week    1390.727644\n",
            "death one week          23.233251\n",
            "dtype: float64\n"
          ],
          "name": "stdout"
        }
      ]
    },
    {
      "cell_type": "code",
      "metadata": {
        "id": "Ppa8vsV9_kGy",
        "outputId": "b594677b-8cdc-41a6-ad7a-fe0e9b3cd5c3",
        "colab": {
          "base_uri": "https://localhost:8080/",
          "height": 90
        }
      },
      "source": [
        "print(lr.predict([[175678,2551]]))\n",
        "print(lr.predict([[185678,3500]]))\n",
        "lr.predict([[180643,2626]])"
      ],
      "execution_count": null,
      "outputs": [
        {
          "output_type": "stream",
          "text": [
            "[[283717.51614998   4320.18262297 211871.70921769   3140.82483363]]\n",
            "[[249925.67090885   4696.84474731 215882.78336427   4065.11033203]]\n"
          ],
          "name": "stdout"
        },
        {
          "output_type": "execute_result",
          "data": {
            "text/plain": [
              "array([[291515.62695303,   4442.99669331, 217822.66968292,\n",
              "          3232.37454336]])"
            ]
          },
          "metadata": {
            "tags": []
          },
          "execution_count": 6
        }
      ]
    },
    {
      "cell_type": "code",
      "metadata": {
        "id": "rrP0jgpA_tLb",
        "outputId": "df5e2d91-80cf-4ff0-e5d1-aaf3d0debf0d",
        "colab": {
          "base_uri": "https://localhost:8080/",
          "height": 210
        }
      },
      "source": [
        "df=pd.read_csv(\"/content/drive/My Drive/covid data/chennai/Chennai confirmed and death 15 and 5 days.csv\")\n",
        "df.head(3)"
      ],
      "execution_count": null,
      "outputs": [
        {
          "output_type": "execute_result",
          "data": {
            "text/html": [
              "<div>\n",
              "<style scoped>\n",
              "    .dataframe tbody tr th:only-of-type {\n",
              "        vertical-align: middle;\n",
              "    }\n",
              "\n",
              "    .dataframe tbody tr th {\n",
              "        vertical-align: top;\n",
              "    }\n",
              "\n",
              "    .dataframe thead th {\n",
              "        text-align: right;\n",
              "    }\n",
              "</style>\n",
              "<table border=\"1\" class=\"dataframe\">\n",
              "  <thead>\n",
              "    <tr style=\"text-align: right;\">\n",
              "      <th></th>\n",
              "      <th>District</th>\n",
              "      <th>date</th>\n",
              "      <th>active</th>\n",
              "      <th>confirmed</th>\n",
              "      <th>deceased</th>\n",
              "      <th>recovered</th>\n",
              "      <th>confirmed after 15 days</th>\n",
              "      <th>death after 15 days</th>\n",
              "      <th>confirmed one week</th>\n",
              "      <th>death one week</th>\n",
              "    </tr>\n",
              "  </thead>\n",
              "  <tbody>\n",
              "    <tr>\n",
              "      <th>0</th>\n",
              "      <td>Chennai</td>\n",
              "      <td>4/21/2020</td>\n",
              "      <td>264</td>\n",
              "      <td>363</td>\n",
              "      <td>0</td>\n",
              "      <td>99</td>\n",
              "      <td>2331</td>\n",
              "      <td>22</td>\n",
              "      <td>528</td>\n",
              "      <td>0</td>\n",
              "    </tr>\n",
              "    <tr>\n",
              "      <th>1</th>\n",
              "      <td>Chennai</td>\n",
              "      <td>4/22/2020</td>\n",
              "      <td>279</td>\n",
              "      <td>378</td>\n",
              "      <td>0</td>\n",
              "      <td>99</td>\n",
              "      <td>2647</td>\n",
              "      <td>23</td>\n",
              "      <td>575</td>\n",
              "      <td>0</td>\n",
              "    </tr>\n",
              "    <tr>\n",
              "      <th>2</th>\n",
              "      <td>Chennai</td>\n",
              "      <td>4/23/2020</td>\n",
              "      <td>306</td>\n",
              "      <td>405</td>\n",
              "      <td>0</td>\n",
              "      <td>99</td>\n",
              "      <td>3046</td>\n",
              "      <td>25</td>\n",
              "      <td>678</td>\n",
              "      <td>8</td>\n",
              "    </tr>\n",
              "  </tbody>\n",
              "</table>\n",
              "</div>"
            ],
            "text/plain": [
              "  District       date  ...  confirmed one week  death one week\n",
              "0  Chennai  4/21/2020  ...                 528               0\n",
              "1  Chennai  4/22/2020  ...                 575               0\n",
              "2  Chennai  4/23/2020  ...                 678               8\n",
              "\n",
              "[3 rows x 10 columns]"
            ]
          },
          "metadata": {
            "tags": []
          },
          "execution_count": 7
        }
      ]
    },
    {
      "cell_type": "code",
      "metadata": {
        "id": "ZZ_W42Ze__Kf",
        "outputId": "6428470a-24c4-43d8-d5ec-f7542dd4ae34",
        "colab": {
          "base_uri": "https://localhost:8080/",
          "height": 35
        }
      },
      "source": [
        "x=df.iloc[:,[3,4]]\n",
        "y=df.iloc[:,[6,7,8,9]]\n",
        "from sklearn.model_selection import train_test_split\n",
        "x_train,x_test,y_train,y_test=train_test_split(x,y,test_size=0.4,random_state=0)\n",
        "from sklearn.linear_model import LinearRegression\n",
        "lr=LinearRegression()\n",
        "lr.fit(x_train,y_train)"
      ],
      "execution_count": null,
      "outputs": [
        {
          "output_type": "execute_result",
          "data": {
            "text/plain": [
              "LinearRegression(copy_X=True, fit_intercept=True, n_jobs=None, normalize=False)"
            ]
          },
          "metadata": {
            "tags": []
          },
          "execution_count": 8
        }
      ]
    },
    {
      "cell_type": "code",
      "metadata": {
        "id": "Kd6O50BAABjK",
        "outputId": "45507286-ac9d-475c-f636-686eeeee071d",
        "colab": {
          "base_uri": "https://localhost:8080/",
          "height": 254
        }
      },
      "source": [
        "y_pred=lr.predict(x_test)\n",
        "from sklearn.metrics import r2_score,mean_squared_error,mean_absolute_error\n",
        "from math import sqrt\n",
        "accuracy=r2_score(y_pred,y_test)*100\n",
        "print(\"Accuracy r2_score\",accuracy)\n",
        "print(\"ACCURACY=\",lr.score(x_train,y_train)*100)\n",
        "from sklearn.metrics import mean_absolute_error\n",
        "pred= lr.predict(x_test)\n",
        "print(\"MAE=\",mean_absolute_error(y_test, pred))\n",
        "rss=((y_test-y_pred)**2).sum()\n",
        "mse=np.mean((y_test-y_pred)**2)\n",
        "print(\"MSE=\",mse)\n",
        "print(\"Final rmse value is =\",np.sqrt(np.mean((y_test-y_pred)**2)))"
      ],
      "execution_count": null,
      "outputs": [
        {
          "output_type": "stream",
          "text": [
            "Accuracy r2_score -388.45350896621727\n",
            "ACCURACY= 99.28712343622638\n",
            "MAE= 6510.205320156985\n",
            "MSE= confirmed after 15 days    1.615706e+10\n",
            "death after 15 days        3.870594e+03\n",
            "confirmed one week         1.743291e+06\n",
            "death one week             7.292933e+02\n",
            "dtype: float64\n",
            "Final rmse value is = confirmed after 15 days    127110.418465\n",
            "death after 15 days            62.214095\n",
            "confirmed one week           1320.337545\n",
            "death one week                 27.005431\n",
            "dtype: float64\n"
          ],
          "name": "stdout"
        }
      ]
    },
    {
      "cell_type": "code",
      "metadata": {
        "id": "pm5_eFdlAIYD",
        "outputId": "4cac77cb-06cf-47af-9a31-b4ea5a41a382",
        "colab": {
          "base_uri": "https://localhost:8080/",
          "height": 54
        }
      },
      "source": [
        "lr.predict([[88337,1475]])\n"
      ],
      "execution_count": null,
      "outputs": [
        {
          "output_type": "execute_result",
          "data": {
            "text/plain": [
              "array([[111925.1342877 ,   1949.71831237,  99413.59236294,\n",
              "          1690.54315522]])"
            ]
          },
          "metadata": {
            "tags": []
          },
          "execution_count": 11
        }
      ]
    },
    {
      "cell_type": "code",
      "metadata": {
        "id": "AGbYcTFrCh4H",
        "outputId": "fb9b5110-7df1-4d98-cc77-5a755a931b92",
        "colab": {
          "base_uri": "https://localhost:8080/",
          "height": 175
        }
      },
      "source": [
        "df=pd.read_csv(\"/content/drive/My Drive/covid data/maharashtra/Maharshtra confirmed and death 15 and 5.csv\")\n",
        "df.head(3)"
      ],
      "execution_count": null,
      "outputs": [
        {
          "output_type": "execute_result",
          "data": {
            "text/html": [
              "<div>\n",
              "<style scoped>\n",
              "    .dataframe tbody tr th:only-of-type {\n",
              "        vertical-align: middle;\n",
              "    }\n",
              "\n",
              "    .dataframe tbody tr th {\n",
              "        vertical-align: top;\n",
              "    }\n",
              "\n",
              "    .dataframe thead th {\n",
              "        text-align: right;\n",
              "    }\n",
              "</style>\n",
              "<table border=\"1\" class=\"dataframe\">\n",
              "  <thead>\n",
              "    <tr style=\"text-align: right;\">\n",
              "      <th></th>\n",
              "      <th>district</th>\n",
              "      <th>date</th>\n",
              "      <th>active</th>\n",
              "      <th>confirmed</th>\n",
              "      <th>death</th>\n",
              "      <th>cured</th>\n",
              "      <th>confirmed15</th>\n",
              "      <th>death 15</th>\n",
              "      <th>confirmed 5</th>\n",
              "      <th>death 5</th>\n",
              "    </tr>\n",
              "  </thead>\n",
              "  <tbody>\n",
              "    <tr>\n",
              "      <th>0</th>\n",
              "      <td>Maharashtra</td>\n",
              "      <td>9/3/2020</td>\n",
              "      <td>NaN</td>\n",
              "      <td>2</td>\n",
              "      <td>0</td>\n",
              "      <td>0</td>\n",
              "      <td>89</td>\n",
              "      <td>2</td>\n",
              "      <td>14</td>\n",
              "      <td>0</td>\n",
              "    </tr>\n",
              "    <tr>\n",
              "      <th>1</th>\n",
              "      <td>Maharashtra</td>\n",
              "      <td>10/3/2020</td>\n",
              "      <td>NaN</td>\n",
              "      <td>5</td>\n",
              "      <td>0</td>\n",
              "      <td>0</td>\n",
              "      <td>128</td>\n",
              "      <td>3</td>\n",
              "      <td>32</td>\n",
              "      <td>0</td>\n",
              "    </tr>\n",
              "    <tr>\n",
              "      <th>2</th>\n",
              "      <td>Maharashtra</td>\n",
              "      <td>11/3/2020</td>\n",
              "      <td>NaN</td>\n",
              "      <td>2</td>\n",
              "      <td>0</td>\n",
              "      <td>0</td>\n",
              "      <td>124</td>\n",
              "      <td>3</td>\n",
              "      <td>32</td>\n",
              "      <td>0</td>\n",
              "    </tr>\n",
              "  </tbody>\n",
              "</table>\n",
              "</div>"
            ],
            "text/plain": [
              "      district       date  active  ...  death 15  confirmed 5  death 5\n",
              "0  Maharashtra   9/3/2020     NaN  ...         2           14        0\n",
              "1  Maharashtra  10/3/2020     NaN  ...         3           32        0\n",
              "2  Maharashtra  11/3/2020     NaN  ...         3           32        0\n",
              "\n",
              "[3 rows x 10 columns]"
            ]
          },
          "metadata": {
            "tags": []
          },
          "execution_count": 12
        }
      ]
    },
    {
      "cell_type": "code",
      "metadata": {
        "id": "GIf0-tjCFvsn",
        "outputId": "f8941eb0-3ddb-454d-885a-facdc8764e52",
        "colab": {
          "base_uri": "https://localhost:8080/",
          "height": 35
        }
      },
      "source": [
        "x=df.iloc[:,[3,4]]\n",
        "y=df.iloc[:,[6,7,8,9]]\n",
        "from sklearn.model_selection import train_test_split\n",
        "x_train,x_test,y_train,y_test=train_test_split(x,y,test_size=0.4,random_state=0)\n",
        "from sklearn.linear_model import LinearRegression\n",
        "lr=LinearRegression()\n",
        "lr.fit(x_train,y_train)"
      ],
      "execution_count": null,
      "outputs": [
        {
          "output_type": "execute_result",
          "data": {
            "text/plain": [
              "LinearRegression(copy_X=True, fit_intercept=True, n_jobs=None, normalize=False)"
            ]
          },
          "metadata": {
            "tags": []
          },
          "execution_count": 13
        }
      ]
    },
    {
      "cell_type": "code",
      "metadata": {
        "id": "QxTn6XkIFzCj",
        "outputId": "0ae865f4-6b34-4495-8f5e-a6d605446123",
        "colab": {
          "base_uri": "https://localhost:8080/",
          "height": 254
        }
      },
      "source": [
        "y_pred=lr.predict(x_test)\n",
        "from sklearn.metrics import r2_score,mean_squared_error,mean_absolute_error\n",
        "from math import sqrt\n",
        "accuracy=r2_score(y_pred,y_test)*100\n",
        "print(\"Accuracy r2_score\",accuracy)\n",
        "print(\"ACCURACY=\",lr.score(x_train,y_train)*100)\n",
        "from sklearn.metrics import mean_absolute_error\n",
        "pred= lr.predict(x_test)\n",
        "print(\"MAE=\",mean_absolute_error(y_test, pred))\n",
        "rss=((y_test-y_pred)**2).sum()\n",
        "mse=np.mean((y_test-y_pred)**2)\n",
        "print(\"MSE=\",mse)\n",
        "print(\"Final rmse value is =\",np.sqrt(np.mean((y_test-y_pred)**2)))"
      ],
      "execution_count": null,
      "outputs": [
        {
          "output_type": "stream",
          "text": [
            "Accuracy r2_score 99.23834274620478\n",
            "ACCURACY= 99.72394230412065\n",
            "MAE= 1945.334970254419\n",
            "MSE= confirmed15    3.832464e+07\n",
            "death 15       1.482015e+05\n",
            "confirmed 5    4.012689e+06\n",
            "death 5        1.000981e+05\n",
            "dtype: float64\n",
            "Final rmse value is = confirmed15    6190.690142\n",
            "death 15        384.969506\n",
            "confirmed 5    2003.169747\n",
            "death 5         316.382796\n",
            "dtype: float64\n"
          ],
          "name": "stdout"
        }
      ]
    },
    {
      "cell_type": "code",
      "metadata": {
        "id": "bR9XEXDsF1zW",
        "outputId": "4c2fdf65-1da9-434f-cd50-b393fe271016",
        "colab": {
          "base_uri": "https://localhost:8080/",
          "height": 54
        }
      },
      "source": [
        "lr.predict([[325045,12170]])"
      ],
      "execution_count": null,
      "outputs": [
        {
          "output_type": "execute_result",
          "data": {
            "text/plain": [
              "array([[512465.3709729 ,  20859.62546654, 382336.81787414,\n",
              "         14673.58392975]])"
            ]
          },
          "metadata": {
            "tags": []
          },
          "execution_count": 15
        }
      ]
    },
    {
      "cell_type": "code",
      "metadata": {
        "id": "GJvtQ3s7F5fk",
        "outputId": "8cd93a9c-92bc-483b-ef19-fa0891972a79",
        "colab": {
          "base_uri": "https://localhost:8080/",
          "height": 227
        }
      },
      "source": [
        "df=pd.read_csv(\"/content/drive/My Drive/covid data/USA/USA 15 and 5.csv\")\n",
        "df.head(3)"
      ],
      "execution_count": null,
      "outputs": [
        {
          "output_type": "execute_result",
          "data": {
            "text/html": [
              "<div>\n",
              "<style scoped>\n",
              "    .dataframe tbody tr th:only-of-type {\n",
              "        vertical-align: middle;\n",
              "    }\n",
              "\n",
              "    .dataframe tbody tr th {\n",
              "        vertical-align: top;\n",
              "    }\n",
              "\n",
              "    .dataframe thead th {\n",
              "        text-align: right;\n",
              "    }\n",
              "</style>\n",
              "<table border=\"1\" class=\"dataframe\">\n",
              "  <thead>\n",
              "    <tr style=\"text-align: right;\">\n",
              "      <th></th>\n",
              "      <th>district</th>\n",
              "      <th>date</th>\n",
              "      <th>active</th>\n",
              "      <th>confirmed</th>\n",
              "      <th>death</th>\n",
              "      <th>cured</th>\n",
              "      <th>confirmed 15</th>\n",
              "      <th>death 15</th>\n",
              "      <th>confirmed 5</th>\n",
              "      <th>death 5</th>\n",
              "    </tr>\n",
              "  </thead>\n",
              "  <tbody>\n",
              "    <tr>\n",
              "      <th>0</th>\n",
              "      <td>United States</td>\n",
              "      <td>12/31/2019</td>\n",
              "      <td>NaN</td>\n",
              "      <td>0</td>\n",
              "      <td>0</td>\n",
              "      <td>NaN</td>\n",
              "      <td>0</td>\n",
              "      <td>0</td>\n",
              "      <td>0</td>\n",
              "      <td>0</td>\n",
              "    </tr>\n",
              "    <tr>\n",
              "      <th>1</th>\n",
              "      <td>United States</td>\n",
              "      <td>1/1/2020</td>\n",
              "      <td>NaN</td>\n",
              "      <td>0</td>\n",
              "      <td>0</td>\n",
              "      <td>NaN</td>\n",
              "      <td>0</td>\n",
              "      <td>0</td>\n",
              "      <td>0</td>\n",
              "      <td>0</td>\n",
              "    </tr>\n",
              "    <tr>\n",
              "      <th>2</th>\n",
              "      <td>United States</td>\n",
              "      <td>1/2/2020</td>\n",
              "      <td>NaN</td>\n",
              "      <td>0</td>\n",
              "      <td>0</td>\n",
              "      <td>NaN</td>\n",
              "      <td>0</td>\n",
              "      <td>0</td>\n",
              "      <td>0</td>\n",
              "      <td>0</td>\n",
              "    </tr>\n",
              "  </tbody>\n",
              "</table>\n",
              "</div>"
            ],
            "text/plain": [
              "        district        date  active  ...  death 15  confirmed 5  death 5\n",
              "0  United States  12/31/2019     NaN  ...         0            0        0\n",
              "1  United States    1/1/2020     NaN  ...         0            0        0\n",
              "2  United States    1/2/2020     NaN  ...         0            0        0\n",
              "\n",
              "[3 rows x 10 columns]"
            ]
          },
          "metadata": {
            "tags": []
          },
          "execution_count": 16
        }
      ]
    },
    {
      "cell_type": "code",
      "metadata": {
        "id": "c0gMHkslVjp0",
        "outputId": "1e0aa4e2-a31e-47de-9388-08189ecf16a9",
        "colab": {
          "base_uri": "https://localhost:8080/",
          "height": 35
        }
      },
      "source": [
        "x=df.iloc[:,[3,4]]\n",
        "y=df.iloc[:,[6,7,8,9]]\n",
        "from sklearn.model_selection import train_test_split\n",
        "x_train,x_test,y_train,y_test=train_test_split(x,y,test_size=0.4,random_state=0)\n",
        "from sklearn.linear_model import LinearRegression\n",
        "lr=LinearRegression()\n",
        "lr.fit(x_train,y_train)"
      ],
      "execution_count": null,
      "outputs": [
        {
          "output_type": "execute_result",
          "data": {
            "text/plain": [
              "LinearRegression(copy_X=True, fit_intercept=True, n_jobs=None, normalize=False)"
            ]
          },
          "metadata": {
            "tags": []
          },
          "execution_count": 17
        }
      ]
    },
    {
      "cell_type": "code",
      "metadata": {
        "id": "Hb8Vnoi2Vm0g",
        "outputId": "c4fd96c7-61a5-43e5-ef22-16e15cee32f3",
        "colab": {
          "base_uri": "https://localhost:8080/",
          "height": 254
        }
      },
      "source": [
        "y_pred=lr.predict(x_test)\n",
        "from sklearn.metrics import r2_score,mean_squared_error,mean_absolute_error\n",
        "from math import sqrt\n",
        "accuracy=r2_score(y_pred,y_test)*100\n",
        "print(\"Accuracy r2_score\",accuracy)\n",
        "print(\"ACCURACY=\",lr.score(x_train,y_train)*100)\n",
        "from sklearn.metrics import mean_absolute_error\n",
        "pred= lr.predict(x_test)\n",
        "print(\"MAE=\",mean_absolute_error(y_test, pred))\n",
        "rss=((y_test-y_pred)**2).sum()\n",
        "mse=np.mean((y_test-y_pred)**2)\n",
        "print(\"MSE=\",mse)\n",
        "print(\"Final rmse value is =\",np.sqrt(np.mean((y_test-y_pred)**2)))"
      ],
      "execution_count": null,
      "outputs": [
        {
          "output_type": "stream",
          "text": [
            "Accuracy r2_score 98.50646178200157\n",
            "ACCURACY= 99.44885457209553\n",
            "MAE= 35726.56610568274\n",
            "MSE= confirmed 15    1.264520e+10\n",
            "death 15        1.216583e+08\n",
            "confirmed 5     1.556674e+09\n",
            "death 5         1.294429e+07\n",
            "dtype: float64\n",
            "Final rmse value is = confirmed 15    112450.889269\n",
            "death 15         11029.881083\n",
            "confirmed 5      39454.711813\n",
            "death 5           3597.817909\n",
            "dtype: float64\n"
          ],
          "name": "stdout"
        }
      ]
    },
    {
      "cell_type": "code",
      "metadata": {
        "id": "RmOxMfld_G8W",
        "outputId": "8de1ce3f-0468-4f78-da86-e620a6bb65c4",
        "colab": {
          "base_uri": "https://localhost:8080/",
          "height": 54
        }
      },
      "source": [
        "lr.predict([[3830010,140906]])"
      ],
      "execution_count": null,
      "outputs": [
        {
          "output_type": "execute_result",
          "data": {
            "text/plain": [
              "array([[5905644.91969191,  179077.01584222, 4428455.20207407,\n",
              "         151229.72007583]])"
            ]
          },
          "metadata": {
            "tags": []
          },
          "execution_count": 19
        }
      ]
    },
    {
      "cell_type": "code",
      "metadata": {
        "id": "ZYWbI2YCVvqm",
        "outputId": "89dc5b69-fae4-4783-fbc0-f2185beccd6e",
        "colab": {
          "base_uri": "https://localhost:8080/",
          "height": 254
        }
      },
      "source": [
        "df=pd.read_csv(\"/content/drive/My Drive/covid data/world/world 15 and 5.csv\")\n",
        "df.head(3)\n",
        "x=df.iloc[:,[3,4]]\n",
        "y=df.iloc[:,[6,7,8,9]]\n",
        "from sklearn.model_selection import train_test_split\n",
        "x_train,x_test,y_train,y_test=train_test_split(x,y,test_size=0.4,random_state=0)\n",
        "from sklearn.linear_model import LinearRegression\n",
        "lr=LinearRegression()\n",
        "lr.fit(x_train,y_train)\n",
        "y_pred=lr.predict(x_test)\n",
        "from sklearn.metrics import r2_score,mean_squared_error,mean_absolute_error\n",
        "from math import sqrt\n",
        "accuracy=r2_score(y_pred,y_test)*100\n",
        "print(\"Accuracy r2_score\",accuracy)\n",
        "print(\"ACCURACY=\",lr.score(x_train,y_train)*100)\n",
        "from sklearn.metrics import mean_absolute_error\n",
        "pred= lr.predict(x_test)\n",
        "print(\"MAE=\",mean_absolute_error(y_test, pred))\n",
        "rss=((y_test-y_pred)**2).sum()\n",
        "mse=np.mean((y_test-y_pred)**2)\n",
        "print(\"MSE=\",mse)\n",
        "print(\"Final rmse value is =\",np.sqrt(np.mean((y_test-y_pred)**2)))"
      ],
      "execution_count": null,
      "outputs": [
        {
          "output_type": "stream",
          "text": [
            "Accuracy r2_score 99.28690695736506\n",
            "ACCURACY= 99.7270881310096\n",
            "MAE= 79818.31667125065\n",
            "MSE= confirmed 15    8.247906e+10\n",
            "death 15        8.843040e+08\n",
            "confirmed 5     9.147641e+09\n",
            "death 5         9.137952e+07\n",
            "dtype: float64\n",
            "Final rmse value is = confirmed 15    287191.679242\n",
            "death 15         29737.249910\n",
            "confirmed 5      95643.301227\n",
            "death 5           9559.263520\n",
            "dtype: float64\n"
          ],
          "name": "stdout"
        }
      ]
    },
    {
      "cell_type": "code",
      "metadata": {
        "id": "9AzX0FVhV7kq",
        "outputId": "9d9a6ff8-13fc-4946-f4e0-897b01dee478",
        "colab": {
          "base_uri": "https://localhost:8080/",
          "height": 54
        }
      },
      "source": [
        "lr.predict([[14684741,610110]])"
      ],
      "execution_count": null,
      "outputs": [
        {
          "output_type": "execute_result",
          "data": {
            "text/plain": [
              "array([[18744939.40021707,   654440.64273313, 15897928.63988888,\n",
              "          618893.1517032 ]])"
            ]
          },
          "metadata": {
            "tags": []
          },
          "execution_count": 21
        }
      ]
    },
    {
      "cell_type": "code",
      "metadata": {
        "id": "ve7F9WoRBFIa",
        "outputId": "a0d6c39f-55fd-4f8f-fa90-21cdfccf1751",
        "colab": {
          "base_uri": "https://localhost:8080/",
          "height": 290
        }
      },
      "source": [
        "df=pd.read_csv(\"/content/drive/My Drive/covid data/UK/UK 15 and 5.csv\")\n",
        "df.head(3)\n",
        "x=df.iloc[:,[3,4]]\n",
        "y=df.iloc[:,[6,7,8,9]]\n",
        "from sklearn.model_selection import train_test_split\n",
        "x_train,x_test,y_train,y_test=train_test_split(x,y,test_size=0.4,random_state=0)\n",
        "from sklearn.linear_model import LinearRegression\n",
        "lr=LinearRegression()\n",
        "lr.fit(x_train,y_train)\n",
        "y_pred=lr.predict(x_test)\n",
        "from sklearn.metrics import r2_score,mean_squared_error,mean_absolute_error\n",
        "from math import sqrt\n",
        "accuracy=r2_score(y_pred,y_test)*100\n",
        "print(\"Accuracy r2_score\",accuracy)\n",
        "print(\"ACCURACY=\",lr.score(x_train,y_train)*100)\n",
        "from sklearn.metrics import mean_absolute_error\n",
        "pred= lr.predict(x_test)\n",
        "print(\"MAE=\",mean_absolute_error(y_test, pred))\n",
        "rss=((y_test-y_pred)**2).sum()\n",
        "mse=np.mean((y_test-y_pred)**2)\n",
        "print(\"MSE=\",mse)\n",
        "print(\"Final rmse value is =\",np.sqrt(np.mean((y_test-y_pred)**2)))\n",
        "lr.predict([[294066,45273]])"
      ],
      "execution_count": null,
      "outputs": [
        {
          "output_type": "stream",
          "text": [
            "Accuracy r2_score 96.5201267877632\n",
            "ACCURACY= 97.60545466403225\n",
            "MAE= 9458.523475948412\n",
            "MSE= confirmed 15    1.015625e+09\n",
            "death 15        2.151692e+07\n",
            "confirmed 5     1.201331e+08\n",
            "death 5         2.466625e+06\n",
            "dtype: float64\n",
            "Final rmse value is = confirmed 15    31868.877992\n",
            "death 15         4638.633855\n",
            "confirmed 5     10960.525965\n",
            "death 5          1570.549328\n",
            "dtype: float64\n"
          ],
          "name": "stdout"
        },
        {
          "output_type": "execute_result",
          "data": {
            "text/plain": [
              "array([[365408.09432113,  53181.67515335, 322611.08603502,\n",
              "         48867.87487883]])"
            ]
          },
          "metadata": {
            "tags": []
          },
          "execution_count": 22
        }
      ]
    },
    {
      "cell_type": "code",
      "metadata": {
        "id": "jujST0QrBWZL",
        "outputId": "fa65dee7-37f5-4418-a411-7483081c6181",
        "colab": {
          "base_uri": "https://localhost:8080/",
          "height": 290
        }
      },
      "source": [
        "df=pd.read_csv('/content/drive/My Drive/covid data/Italy/Italy 5 and 15.csv')\n",
        "df.head(3)\n",
        "x=df.iloc[:,[3,4]]\n",
        "y=df.iloc[:,[6,7,8,9]]\n",
        "from sklearn.model_selection import train_test_split\n",
        "x_train,x_test,y_train,y_test=train_test_split(x,y,test_size=0.4,random_state=0)\n",
        "from sklearn.linear_model import LinearRegression\n",
        "lr=LinearRegression()\n",
        "lr.fit(x_train,y_train)\n",
        "y_pred=lr.predict(x_test)\n",
        "from sklearn.metrics import r2_score,mean_squared_error,mean_absolute_error\n",
        "from math import sqrt\n",
        "accuracy=r2_score(y_pred,y_test)*100\n",
        "print(\"Accuracy r2_score\",accuracy)\n",
        "print(\"ACCURACY=\",lr.score(x_train,y_train)*100)\n",
        "from sklearn.metrics import mean_absolute_error\n",
        "pred= lr.predict(x_test)\n",
        "print(\"MAE=\",mean_absolute_error(y_test, pred))\n",
        "rss=((y_test-y_pred)**2).sum()\n",
        "mse=np.mean((y_test-y_pred)**2)\n",
        "print(\"MSE=\",mse)\n",
        "print(\"Final rmse value is =\",np.sqrt(np.mean((y_test-y_pred)**2)))\n",
        "lr.predict([[244624,35058]])"
      ],
      "execution_count": null,
      "outputs": [
        {
          "output_type": "stream",
          "text": [
            "Accuracy r2_score 99.54866927538711\n",
            "ACCURACY= 99.12268199084791\n",
            "MAE= 3022.706474920451\n",
            "MSE= confirmed 15    1.204589e+08\n",
            "death 15        1.190615e+06\n",
            "confirmed 5     6.788745e+06\n",
            "death 5         4.038589e+04\n",
            "dtype: float64\n",
            "Final rmse value is = confirmed 15    10975.374810\n",
            "death 15         1091.153007\n",
            "confirmed 5      2605.521995\n",
            "death 5           200.962418\n",
            "dtype: float64\n"
          ],
          "name": "stdout"
        },
        {
          "output_type": "execute_result",
          "data": {
            "text/plain": [
              "array([[246179.89768425,  35611.04869114, 245815.89781541,\n",
              "         35389.73570915]])"
            ]
          },
          "metadata": {
            "tags": []
          },
          "execution_count": 23
        }
      ]
    },
    {
      "cell_type": "code",
      "metadata": {
        "id": "xrLUXAZ7BkMv",
        "outputId": "119fbf8f-7742-4610-d76e-6e0e13ad4888",
        "colab": {
          "base_uri": "https://localhost:8080/",
          "height": 290
        }
      },
      "source": [
        "df=pd.read_csv('/content/drive/My Drive/covid data/delhi/delhi confirmed and death 15 and 5.csv')\n",
        "df.head(3)\n",
        "x=df.iloc[:,[3,4]]\n",
        "y=df.iloc[:,[6,7,8,9]]\n",
        "from sklearn.model_selection import train_test_split\n",
        "x_train,x_test,y_train,y_test=train_test_split(x,y,test_size=0.4,random_state=0)\n",
        "from sklearn.linear_model import LinearRegression\n",
        "lr=LinearRegression()\n",
        "lr.fit(x_train,y_train)\n",
        "y_pred=lr.predict(x_test)\n",
        "from sklearn.metrics import r2_score,mean_squared_error,mean_absolute_error\n",
        "from math import sqrt\n",
        "accuracy=r2_score(y_pred,y_test)*100\n",
        "print(\"Accuracy r2_score\",accuracy)\n",
        "print(\"ACCURACY=\",lr.score(x_train,y_train)*100)\n",
        "from sklearn.metrics import mean_absolute_error\n",
        "pred= lr.predict(x_test)\n",
        "print(\"MAE=\",mean_absolute_error(y_test, pred))\n",
        "rss=((y_test-y_pred)**2).sum()\n",
        "mse=np.mean((y_test-y_pred)**2)\n",
        "print(\"MSE=\",mse)\n",
        "print(\"Final rmse value is =\",np.sqrt(np.mean((y_test-y_pred)**2)))\n",
        "lr.predict([[123747,3663]])"
      ],
      "execution_count": null,
      "outputs": [
        {
          "output_type": "stream",
          "text": [
            "Accuracy r2_score 92.48472655914556\n",
            "ACCURACY= 97.4474309488679\n",
            "MAE= 2569.1757595741615\n",
            "MSE= confirmed15    1.001041e+08\n",
            "death 15       1.846737e+05\n",
            "confirmed5     5.762669e+06\n",
            "death 5        1.779293e+04\n",
            "dtype: float64\n",
            "Final rmse value is = confirmed15    10005.201782\n",
            "death 15         429.736818\n",
            "confirmed5      2400.556071\n",
            "death 5          133.390148\n",
            "dtype: float64\n"
          ],
          "name": "stdout"
        },
        {
          "output_type": "execute_result",
          "data": {
            "text/plain": [
              "array([[174828.53523401,   5290.05903033, 141010.35356413,\n",
              "          4225.23589936]])"
            ]
          },
          "metadata": {
            "tags": []
          },
          "execution_count": 24
        }
      ]
    },
    {
      "cell_type": "code",
      "metadata": {
        "id": "8qjH9SkLBlq_",
        "outputId": "aa15e1e3-0069-4e45-aba4-9228c58202c0",
        "colab": {
          "base_uri": "https://localhost:8080/",
          "height": 272
        }
      },
      "source": [
        "df=pd.read_csv('/content/drive/My Drive/covid data/gujarat/gujarat confimed and death 15 and 5.csv')\n",
        "df.head(3)\n",
        "x=df.iloc[:,[3,4]]\n",
        "y=df.iloc[:,[6,7,8,9]]\n",
        "from sklearn.model_selection import train_test_split\n",
        "x_train,x_test,y_train,y_test=train_test_split(x,y,test_size=0.4,random_state=0)\n",
        "from sklearn.linear_model import LinearRegression\n",
        "lr=LinearRegression()\n",
        "lr.fit(x_train,y_train)\n",
        "y_pred=lr.predict(x_test)\n",
        "from sklearn.metrics import r2_score,mean_squared_error,mean_absolute_error\n",
        "from math import sqrt\n",
        "accuracy=r2_score(y_pred,y_test)*100\n",
        "print(\"Accuracy r2_score\",accuracy)\n",
        "print(\"ACCURACY=\",lr.score(x_train,y_train)*100)\n",
        "from sklearn.metrics import mean_absolute_error\n",
        "pred= lr.predict(x_test)\n",
        "print(\"MAE=\",mean_absolute_error(y_test, pred))\n",
        "rss=((y_test-y_pred)**2).sum()\n",
        "mse=np.mean((y_test-y_pred)**2)\n",
        "print(\"MSE=\",mse)\n",
        "print(\"Final rmse value is =\",np.sqrt(np.mean((y_test-y_pred)**2)))\n",
        "lr.predict([[49353,2162]])"
      ],
      "execution_count": null,
      "outputs": [
        {
          "output_type": "stream",
          "text": [
            "Accuracy r2_score 98.73899164026686\n",
            "ACCURACY= 99.61438497512505\n",
            "MAE= 335.0877025301883\n",
            "MSE= confirmed 15    1.570510e+06\n",
            "death 15        1.845491e+04\n",
            "confirmed 5     1.906203e+05\n",
            "death 5         1.919098e+03\n",
            "dtype: float64\n",
            "Final rmse value is = confirmed 15    1253.199949\n",
            "death 15         135.848840\n",
            "confirmed 5      436.600829\n",
            "death 5           43.807513\n",
            "dtype: float64\n"
          ],
          "name": "stdout"
        },
        {
          "output_type": "execute_result",
          "data": {
            "text/plain": [
              "array([[72911.85661438,  2097.7674775 , 55559.28573305,  2121.70162878]])"
            ]
          },
          "metadata": {
            "tags": []
          },
          "execution_count": 25
        }
      ]
    },
    {
      "cell_type": "code",
      "metadata": {
        "id": "HvLaCPTdBmUb",
        "outputId": "69e6a4bd-231f-4a84-e4e6-ec0c21e51ceb",
        "colab": {
          "base_uri": "https://localhost:8080/",
          "height": 272
        }
      },
      "source": [
        "df=pd.read_csv('/content/drive/My Drive/covid data/uttarpradesh/UP  confirmed and death 15 and 5 days.csv')\n",
        "df.head(3)\n",
        "x=df.iloc[:,[3,4]]\n",
        "y=df.iloc[:,[6,7,8,9]]\n",
        "from sklearn.model_selection import train_test_split\n",
        "x_train,x_test,y_train,y_test=train_test_split(x,y,test_size=0.4,random_state=0)\n",
        "from sklearn.linear_model import LinearRegression\n",
        "lr=LinearRegression()\n",
        "lr.fit(x_train,y_train)\n",
        "y_pred=lr.predict(x_test)\n",
        "from sklearn.metrics import r2_score,mean_squared_error,mean_absolute_error\n",
        "from math import sqrt\n",
        "accuracy=r2_score(y_pred,y_test)*100\n",
        "print(\"Accuracy r2_score\",accuracy)\n",
        "print(\"ACCURACY=\",lr.score(x_train,y_train)*100)\n",
        "from sklearn.metrics import mean_absolute_error\n",
        "pred= lr.predict(x_test)\n",
        "print(\"MAE=\",mean_absolute_error(y_test, pred))\n",
        "rss=((y_test-y_pred)**2).sum()\n",
        "mse=np.mean((y_test-y_pred)**2)\n",
        "print(\"MSE=\",mse)\n",
        "print(\"Final rmse value is =\",np.sqrt(np.mean((y_test-y_pred)**2)))\n",
        "lr.predict([[51160,1192]])"
      ],
      "execution_count": null,
      "outputs": [
        {
          "output_type": "stream",
          "text": [
            "Accuracy r2_score 99.56236929951439\n",
            "ACCURACY= 99.7381592984956\n",
            "MAE= 182.64632591193933\n",
            "MSE= confirmed 15    407201.570361\n",
            "death 15          1117.516256\n",
            "confirmed 5     105368.182455\n",
            "death 5            243.425385\n",
            "dtype: float64\n",
            "Final rmse value is = confirmed 15    638.123476\n",
            "death 15         33.429272\n",
            "confirmed 5     324.604656\n",
            "death 5          15.602096\n",
            "dtype: float64\n"
          ],
          "name": "stdout"
        },
        {
          "output_type": "execute_result",
          "data": {
            "text/plain": [
              "array([[95773.435695  ,  2475.53278123, 62287.76391853,  1490.46738269]])"
            ]
          },
          "metadata": {
            "tags": []
          },
          "execution_count": 26
        }
      ]
    },
    {
      "cell_type": "code",
      "metadata": {
        "id": "Q14Yr_20C41I",
        "outputId": "b595fcd0-7393-4ae2-aec7-9556b8aaf78d",
        "colab": {
          "base_uri": "https://localhost:8080/",
          "height": 290
        }
      },
      "source": [
        "df=pd.read_csv('/content/drive/My Drive/covid data/india/india 15 and 5 days count.csv')\n",
        "df.head(3)\n",
        "x=df.iloc[:,[3,4]]\n",
        "y=df.iloc[:,[6,7,8,9]]\n",
        "from sklearn.model_selection import train_test_split\n",
        "x_train,x_test,y_train,y_test=train_test_split(x,y,test_size=0.4,random_state=0)\n",
        "from sklearn.linear_model import LinearRegression\n",
        "lr=LinearRegression()\n",
        "lr.fit(x_train,y_train)\n",
        "y_pred=lr.predict(x_test)\n",
        "from sklearn.metrics import r2_score,mean_squared_error,mean_absolute_error\n",
        "from math import sqrt\n",
        "accuracy=r2_score(y_pred,y_test)*100\n",
        "print(\"Accuracy r2_score\",accuracy)\n",
        "print(\"ACCURACY=\",lr.score(x_train,y_train)*100)\n",
        "from sklearn.metrics import mean_absolute_error\n",
        "pred= lr.predict(x_test)\n",
        "print(\"MAE=\",mean_absolute_error(y_test, pred))\n",
        "rss=((y_test-y_pred)**2).sum()\n",
        "mse=np.mean((y_test-y_pred)**2)\n",
        "print(\"MSE=\",mse)\n",
        "print(\"Final rmse value is =\",np.sqrt(np.mean((y_test-y_pred)**2)))\n",
        "lr.predict([[1155191,28084]])"
      ],
      "execution_count": null,
      "outputs": [
        {
          "output_type": "stream",
          "text": [
            "Accuracy r2_score 99.33406600747874\n",
            "ACCURACY= 99.85801418706362\n",
            "MAE= 3684.3786146569755\n",
            "MSE= confirmed 15    1.685959e+08\n",
            "death 15        9.390873e+05\n",
            "confirmed 5     1.448221e+07\n",
            "death 5         1.155320e+05\n",
            "dtype: float64\n",
            "Final rmse value is = confirmed 15    12984.448050\n",
            "death 15          969.065171\n",
            "confirmed 5      3805.549794\n",
            "death 5           339.900013\n",
            "dtype: float64\n"
          ],
          "name": "stdout"
        },
        {
          "output_type": "execute_result",
          "data": {
            "text/plain": [
              "array([[1903457.91698151,   50048.20352158, 1359221.09383368,\n",
              "          34962.48843678]])"
            ]
          },
          "metadata": {
            "tags": []
          },
          "execution_count": 27
        }
      ]
    },
    {
      "cell_type": "code",
      "metadata": {
        "id": "tb3HcCLeFkXk",
        "outputId": "520d5603-23ce-456e-baab-e4c9c8f106ce",
        "colab": {
          "base_uri": "https://localhost:8080/",
          "height": 290
        }
      },
      "source": [
        "df=pd.read_csv(\"/content/drive/My Drive/covid data/spain/spain 15 and 5.csv\")\n",
        "df.head(3)\n",
        "x=df.iloc[:,[3,4]]\n",
        "y=df.iloc[:,[6,7,8,9]]\n",
        "from sklearn.model_selection import train_test_split\n",
        "x_train,x_test,y_train,y_test=train_test_split(x,y,test_size=0.4,random_state=0)\n",
        "from sklearn.linear_model import LinearRegression\n",
        "lr=LinearRegression()\n",
        "lr.fit(x_train,y_train)\n",
        "y_pred=lr.predict(x_test)\n",
        "from sklearn.metrics import r2_score,mean_squared_error,mean_absolute_error\n",
        "from math import sqrt\n",
        "accuracy=r2_score(y_pred,y_test)*100\n",
        "print(\"Accuracy r2_score\",accuracy)\n",
        "print(\"ACCURACY=\",lr.score(x_train,y_train)*100)\n",
        "from sklearn.metrics import mean_absolute_error\n",
        "pred= lr.predict(x_test)\n",
        "print(\"MAE=\",mean_absolute_error(y_test, pred))\n",
        "rss=((y_test-y_pred)**2).sum()\n",
        "mse=np.mean((y_test-y_pred)**2)\n",
        "print(\"MSE=\",mse)\n",
        "print(\"Final rmse value is =\",np.sqrt(np.mean((y_test-y_pred)**2)))\n",
        "lr.predict([[264836,28422]])"
      ],
      "execution_count": null,
      "outputs": [
        {
          "output_type": "stream",
          "text": [
            "Accuracy r2_score 98.8912757132518\n",
            "ACCURACY= 97.99636432011602\n",
            "MAE= 4904.648131588289\n",
            "MSE= confirmed 15    3.098951e+08\n",
            "death 15        1.912989e+06\n",
            "confirmed 5     2.616435e+07\n",
            "death 5         2.131275e+05\n",
            "dtype: float64\n",
            "Final rmse value is = confirmed 15    17603.837987\n",
            "death 15         1383.108533\n",
            "confirmed 5      5115.110180\n",
            "death 5           461.657347\n",
            "dtype: float64\n"
          ],
          "name": "stdout"
        },
        {
          "output_type": "execute_result",
          "data": {
            "text/plain": [
              "array([[300939.63598831,  33596.53442133, 279847.26570087,\n",
              "         30411.11078386]])"
            ]
          },
          "metadata": {
            "tags": []
          },
          "execution_count": 30
        }
      ]
    },
    {
      "cell_type": "code",
      "metadata": {
        "id": "VmBSsSqyGKC7"
      },
      "source": [
        ""
      ],
      "execution_count": null,
      "outputs": []
    }
  ]
}